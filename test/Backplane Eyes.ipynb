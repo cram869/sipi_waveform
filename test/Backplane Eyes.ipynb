{
 "cells": [
  {
   "cell_type": "code",
   "execution_count": 12,
   "id": "d21692f4",
   "metadata": {},
   "outputs": [],
   "source": [
    "%matplotlib widget\n",
    "import matplotlib.pyplot as plt\n",
    "from numpy import median\n",
    "from sipi_waveform.wfm import wfmbinaryreader\n",
    "from sipi_waveform.tracemath import plotEye"
   ]
  },
  {
   "cell_type": "code",
   "execution_count": 13,
   "id": "b543afbb",
   "metadata": {},
   "outputs": [
    {
     "name": "stdout",
     "output_type": "stream",
     "text": [
      "byte offset to beginning of curve buffer: 838 (16)\n",
      "Dim scale (voltage?): 1.0 (168)\n",
      "Dim offset (voltage?): 0.0 (176)\n",
      "Explicit Dim1 Format: fp32 (240)\n",
      "Dim scale: 2e-11 (488)\n",
      "Dim offset: -9.999999999999997e-06 (496)\n",
      "Dim size: 1000032 (504)\n",
      "wfmbinaryreader took 88.669 ms\n"
     ]
    }
   ],
   "source": [
    "fn = \"equalized_16gbps_backplane_trace.wfm\"\n",
    "label = \"16 Gbps Backplane Trace\"\n",
    "\n",
    "t_, v_ = wfmbinaryreader(fn)"
   ]
  },
  {
   "cell_type": "code",
   "execution_count": 16,
   "id": "3e5f19a5",
   "metadata": {},
   "outputs": [
    {
     "data": {
      "application/vnd.jupyter.widget-view+json": {
       "model_id": "0c71e0472fe24524864e6c2a1f5626d5",
       "version_major": 2,
       "version_minor": 0
      },
      "text/plain": [
       "Canvas(toolbar=Toolbar(toolitems=[('Home', 'Reset original view', 'home', 'home'), ('Back', 'Back to previous …"
      ]
     },
     "metadata": {},
     "output_type": "display_data"
    },
    {
     "name": "stdout",
     "output_type": "stream",
     "text": [
      "-5000   -4900\n"
     ]
    }
   ],
   "source": [
    "# Plot a subset of the time-domain waveform.\n",
    "\n",
    "fig, ax_ = plt.subplots(1, 1)\n",
    "start_index = -5000\n",
    "stop_index = -4900\n",
    "print(start_index, \" \", stop_index)\n",
    "\n",
    "t0 = t_[start_index:stop_index]*1e12\n",
    "t1 = t0 - median(t0)\n",
    "\n",
    "v1 = v_[start_index:stop_index]*1e3\n",
    "\n",
    "ax_.plot(t1, v1)\n",
    "ax_.set_xlabel('Time ($\\mu$s)')\n",
    "ax_.set_ylabel(\"Voltage (mV)\")\n",
    "ax_.grid(True)\n"
   ]
  },
  {
   "cell_type": "code",
   "execution_count": 15,
   "id": "c39ed42f",
   "metadata": {},
   "outputs": [
    {
     "data": {
      "application/vnd.jupyter.widget-view+json": {
       "model_id": "8652702738f843a192a352eddd29adaf",
       "version_major": 2,
       "version_minor": 0
      },
      "text/plain": [
       "Canvas(toolbar=Toolbar(toolitems=[('Home', 'Reset original view', 'home', 'home'), ('Back', 'Back to previous …"
      ]
     },
     "metadata": {},
     "output_type": "display_data"
    },
    {
     "data": {
      "text/plain": [
       "Text(0, 0.5, 'Voltage (mV)')"
      ]
     },
     "execution_count": 15,
     "metadata": {},
     "output_type": "execute_result"
    }
   ],
   "source": [
    "# Plot the sampled eye diagram.\n",
    "ui = 1./16e9 * 1e12 # Unit Interval (a.k.a. bit time)\n",
    "vref = 0.0 # Vref is used as the zero crossing referencing.\n",
    "\n",
    "# AutoCenter fails on this waveform, because the eye is essentially closed.\n",
    "fig = plotEye(t_*1e12, v_*1e3, ui, vref, AutoCenter=False)\n",
    "\n",
    "ax = fig.axes[0]\n",
    "ax.set_xlabel('Time (ps)')\n",
    "ax.set_ylabel('Voltage (mV)')"
   ]
  }
 ],
 "metadata": {
  "kernelspec": {
   "display_name": "Python 3.8.10 ('base')",
   "language": "python",
   "name": "python3"
  },
  "language_info": {
   "codemirror_mode": {
    "name": "ipython",
    "version": 3
   },
   "file_extension": ".py",
   "mimetype": "text/x-python",
   "name": "python",
   "nbconvert_exporter": "python",
   "pygments_lexer": "ipython3",
   "version": "3.8.10"
  },
  "vscode": {
   "interpreter": {
    "hash": "5764602bc5e15974420ba0a3caed7061d770b6b7de350fe4980c5fe44de76677"
   }
  }
 },
 "nbformat": 4,
 "nbformat_minor": 5
}

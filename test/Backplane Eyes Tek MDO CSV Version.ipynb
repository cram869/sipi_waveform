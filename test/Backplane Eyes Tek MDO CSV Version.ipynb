{
 "cells": [
  {
   "cell_type": "code",
   "execution_count": 1,
   "id": "d21692f4",
   "metadata": {},
   "outputs": [],
   "source": [
    "%matplotlib widget\n",
    "import matplotlib.pyplot as plt\n",
    "from numpy import mean as np_mean\n",
    "\n",
    "from sipi_waveform.wfm import tek_mdo_csvread\n",
    "from sipi_waveform.tracemath import plotEye"
   ]
  },
  {
   "cell_type": "code",
   "execution_count": 2,
   "id": "b543afbb",
   "metadata": {},
   "outputs": [
    {
     "name": "stdout",
     "output_type": "stream",
     "text": [
      "tek_mdo_csvread took 3.641939 s\n"
     ]
    }
   ],
   "source": [
    "fn = \"10MHz random.csv\"\n",
    "trace_d = tek_mdo_csvread(fn)"
   ]
  },
  {
   "cell_type": "code",
   "execution_count": 3,
   "id": "28492565",
   "metadata": {},
   "outputs": [],
   "source": [
    "# Dictionary output from tek_mdo_csvread will include multiple series\n",
    "# with TIME and other labels.  In this case CH2 was the source of the \n",
    "# voltage information.\n",
    "t_ = trace_d['TIME']\n",
    "v_ = trace_d['CH2']"
   ]
  },
  {
   "cell_type": "code",
   "execution_count": 4,
   "id": "3e5f19a5",
   "metadata": {},
   "outputs": [
    {
     "data": {
      "application/vnd.jupyter.widget-view+json": {
       "model_id": "d976e9e4c9bd4d449eeb6dd219baeef9",
       "version_major": 2,
       "version_minor": 0
      },
      "text/plain": [
       "Canvas(toolbar=Toolbar(toolitems=[('Home', 'Reset original view', 'home', 'home'), ('Back', 'Back to previous …"
      ]
     },
     "metadata": {},
     "output_type": "display_data"
    },
    {
     "name": "stdout",
     "output_type": "stream",
     "text": [
      "0   50000\n"
     ]
    }
   ],
   "source": [
    "# Plot a subset of the time-domain waveform.\n",
    "fig, ax_ = plt.subplots(1, 1)\n",
    "start_index = 0\n",
    "stop_index = 50000\n",
    "print(start_index, \" \", stop_index)\n",
    "\n",
    "t0 = t_[start_index:stop_index]\n",
    "t1 = t0 - np_mean(t0)\n",
    "\n",
    "v1 = v_[start_index:stop_index]\n",
    "\n",
    "ax_.plot(t1, v1)\n",
    "ax_.set_xlabel('Time (s)')\n",
    "ax_.set_ylabel(\"Voltage (V)\")\n",
    "ax_.grid(True)\n"
   ]
  },
  {
   "cell_type": "code",
   "execution_count": 5,
   "id": "c39ed42f",
   "metadata": {},
   "outputs": [
    {
     "data": {
      "application/vnd.jupyter.widget-view+json": {
       "model_id": "c63b14cba1ca4f3697263387d98e37ea",
       "version_major": 2,
       "version_minor": 0
      },
      "text/plain": [
       "Canvas(toolbar=Toolbar(toolitems=[('Home', 'Reset original view', 'home', 'home'), ('Back', 'Back to previous …"
      ]
     },
     "metadata": {},
     "output_type": "display_data"
    },
    {
     "name": "stdout",
     "output_type": "stream",
     "text": [
      "zerocross took 7.637361 s\n"
     ]
    },
    {
     "data": {
      "text/plain": [
       "Text(0, 0.5, 'Voltage (V)')"
      ]
     },
     "execution_count": 5,
     "metadata": {},
     "output_type": "execute_result"
    }
   ],
   "source": [
    "# Plot the sampled eye diagram.\n",
    "ui = 1./20e6 # Unit Interval (a.k.a. bit time)\n",
    "vref = 1.6 # Vref is used as the zero crossing referencing.\n",
    "\n",
    "# AutoCenter fails on this waveform, because the eye is essentially closed.\n",
    "fig = plotEye(t_*1e9, v_, ui*1e9, vref=vref, mode='edge')\n",
    "\n",
    "ax = fig.axes[0]\n",
    "ax.set_xlabel('Time (ns)')\n",
    "ax.set_ylabel('Voltage (V)')"
   ]
  }
 ],
 "metadata": {
  "kernelspec": {
   "display_name": "Python 3.8.10 ('base')",
   "language": "python",
   "name": "python3"
  },
  "language_info": {
   "codemirror_mode": {
    "name": "ipython",
    "version": 3
   },
   "file_extension": ".py",
   "mimetype": "text/x-python",
   "name": "python",
   "nbconvert_exporter": "python",
   "pygments_lexer": "ipython3",
   "version": "3.8.10"
  },
  "vscode": {
   "interpreter": {
    "hash": "5764602bc5e15974420ba0a3caed7061d770b6b7de350fe4980c5fe44de76677"
   }
  }
 },
 "nbformat": 4,
 "nbformat_minor": 5
}
